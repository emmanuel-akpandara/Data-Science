{
  "cells": [
    {
      "cell_type": "markdown",
      "metadata": {
        "id": "a-K1JOOd-BWv"
      },
      "source": [
        "# Vinho Verde - Exercise\n",
        "\n",
        "We just performed linear regression involving two variables. Almost all the real-world problems that you are going to encounter will have more than two variables (multiple linear regression).\n",
        "\n",
        "In this exercise we will use a dataset with variants of the Portuguese *Vinho Verde* wine. We will take into account various input features like fixed acidity, volatile acidity, citric acid, residual sugar, chlorides, free sulfur dioxide, total sulfur dioxide, density, pH, sulphates, alcohol. Based on these features we will try to predict the quality of the wine."
      ]
    },
    {
      "cell_type": "markdown",
      "metadata": {
        "id": "JjQ_OPg2-BWy"
      },
      "source": [
        "Saturday I am receiving friends for dinner. I would like to offer my guests a glass of wine. I am currently shopping and I've got my eye on the next bottle of wine from Portugal. *(It is unbelievable what information can be found on a wine label these days)*\n",
        "\n",
        "<table>\n",
        "    <tr>\n",
        "        <td>\n",
        "            volatile acidity: 0.650<br />\n",
        "            citric acid: 0.00<br />\n",
        "            residual sugar: 1.2<br />\n",
        "            chlorides: 0.089<br />\n",
        "            free sulfur dioxide: 21.0<br />\n",
        "            density: 1.3946<br />\n",
        "            pH: 3.39<br />\n",
        "            sulphates: 0.53<br />\n",
        "            alcohol: 9.6<br />\n",
        "        </td>\n",
        "        <td>\n",
        "            <img src=\"./resources/calamares.jpg\"  style=\"height: 250px\"/>\n",
        "        </td>\n",
        "    </tr>\n",
        "</table>\n",
        "\n",
        "Would this wine be a good choice? Can you help me?"
      ]
    },
    {
      "cell_type": "markdown",
      "metadata": {
        "id": "Hm3gbVW4-BWz"
      },
      "source": [
        "## 1. Import and read the data\n",
        "\n",
        "Import all the required libraries :"
      ]
    },
    {
      "cell_type": "code",
      "execution_count": 2,
      "metadata": {
        "id": "7_-nR-sN-BW0"
      },
      "outputs": [],
      "source": [
        "import numpy as np\n",
        "import pandas as pd\n",
        "from sklearn.linear_model import LinearRegression\n",
        "from sklearn.model_selection import train_test_split\n",
        "import matplotlib.pyplot as plt\n"
      ]
    },
    {
      "cell_type": "code",
      "source": [
        "# prompt: unzip resources.zip\n",
        "\n",
        "!unzip resources.zip\n"
      ],
      "metadata": {
        "colab": {
          "base_uri": "https://localhost:8080/"
        },
        "id": "cN8KetsCAysv",
        "outputId": "7a2072d6-ef59-4bd2-aeb9-a852343c8ec1"
      },
      "execution_count": 3,
      "outputs": [
        {
          "output_type": "stream",
          "name": "stdout",
          "text": [
            "Archive:  resources.zip\n",
            "  inflating: resources/calamares.jpg  \n",
            "  inflating: resources/LRgraph.png   \n",
            "  inflating: resources/LRoverunder.png  \n",
            "  inflating: resources/LRpol.png     \n",
            "  inflating: resources/scikit.png    \n",
            "  inflating: resources/video1.png    \n",
            "  inflating: resources/video2.png    \n",
            "  inflating: resources/vinho-verde.png  \n",
            "  inflating: resources/weather.csv   \n",
            "  inflating: resources/winequality.csv  \n"
          ]
        }
      ]
    },
    {
      "cell_type": "markdown",
      "metadata": {
        "id": "kG9HzIKT-BW0"
      },
      "source": [
        "Import the file *winequality.csv* using Pandas."
      ]
    },
    {
      "cell_type": "code",
      "execution_count": 25,
      "metadata": {
        "id": "zI9luztx-BW1"
      },
      "outputs": [],
      "source": [
        "wine_df = pd.read_csv('./resources/winequality.csv')"
      ]
    },
    {
      "cell_type": "markdown",
      "metadata": {
        "id": "L3jTB7AT-BW1"
      },
      "source": [
        "## 2. Explore the data\n",
        "\n",
        "Can you check the number of rows and columns in our dataset?"
      ]
    },
    {
      "cell_type": "code",
      "execution_count": 26,
      "metadata": {
        "colab": {
          "base_uri": "https://localhost:8080/"
        },
        "id": "Vo0mvGLJ-BW1",
        "outputId": "d6b41c2c-df46-4ce2-ce19-84075e283ca8"
      },
      "outputs": [
        {
          "output_type": "execute_result",
          "data": {
            "text/plain": [
              "(1599, 12)"
            ]
          },
          "metadata": {},
          "execution_count": 26
        }
      ],
      "source": [
        "wine_df.shape"
      ]
    },
    {
      "cell_type": "markdown",
      "metadata": {
        "id": "sflWVJ1m-BW1"
      },
      "source": [
        "What features of the wines are included in the data?"
      ]
    },
    {
      "cell_type": "code",
      "execution_count": 27,
      "metadata": {
        "colab": {
          "base_uri": "https://localhost:8080/"
        },
        "id": "5SlgoOvf-BW2",
        "outputId": "6eaee01f-f363-443a-b158-a378b837516d"
      },
      "outputs": [
        {
          "output_type": "execute_result",
          "data": {
            "text/plain": [
              "Index(['fixed acidity', 'volatile acidity', 'citric acid', 'residual sugar',\n",
              "       'chlorides', 'free sulfur dioxide', 'total sulfur dioxide', 'density',\n",
              "       'pH', 'sulphates', 'alcohol', 'quality'],\n",
              "      dtype='object')"
            ]
          },
          "metadata": {},
          "execution_count": 27
        }
      ],
      "source": [
        "wine_df.columns"
      ]
    },
    {
      "cell_type": "markdown",
      "metadata": {
        "id": "iOB0ql3h-BW2"
      },
      "source": [
        "Can you print the quality of the first 25 wines? What values are being used?"
      ]
    },
    {
      "cell_type": "code",
      "execution_count": 28,
      "metadata": {
        "colab": {
          "base_uri": "https://localhost:8080/"
        },
        "id": "hsGXTcuG-BW2",
        "outputId": "b857e8d1-292b-426e-a7d6-79ee02a55c0d"
      },
      "outputs": [
        {
          "output_type": "execute_result",
          "data": {
            "text/plain": [
              "0     5\n",
              "1     5\n",
              "2     5\n",
              "3     6\n",
              "4     5\n",
              "5     5\n",
              "6     5\n",
              "7     7\n",
              "8     7\n",
              "9     5\n",
              "10    5\n",
              "11    5\n",
              "12    5\n",
              "13    5\n",
              "14    5\n",
              "15    5\n",
              "16    7\n",
              "17    5\n",
              "18    4\n",
              "19    6\n",
              "20    6\n",
              "21    5\n",
              "22    5\n",
              "23    5\n",
              "24    6\n",
              "Name: quality, dtype: int64"
            ]
          },
          "metadata": {},
          "execution_count": 28
        }
      ],
      "source": [
        "wine_df.head(25)['quality']"
      ]
    },
    {
      "cell_type": "markdown",
      "metadata": {
        "id": "OyNQP2yI-BW2"
      },
      "source": [
        "Can you print all different values and count them?"
      ]
    },
    {
      "cell_type": "code",
      "execution_count": 29,
      "metadata": {
        "colab": {
          "base_uri": "https://localhost:8080/"
        },
        "id": "21cBOgR9-BW3",
        "outputId": "23c54add-c83c-42df-d199-ac940e01dd6a"
      },
      "outputs": [
        {
          "output_type": "execute_result",
          "data": {
            "text/plain": [
              "quality\n",
              "5    681\n",
              "6    638\n",
              "7    199\n",
              "4     53\n",
              "8     18\n",
              "3     10\n",
              "Name: count, dtype: int64"
            ]
          },
          "metadata": {},
          "execution_count": 29
        }
      ],
      "source": [
        "wine_df['quality'].value_counts()"
      ]
    },
    {
      "cell_type": "markdown",
      "metadata": {
        "id": "9KXDuS7E-BW3"
      },
      "source": [
        "Can you check on a 2-D graph if there's any relationship between the fixed acidity and the pH of the wine?"
      ]
    },
    {
      "cell_type": "code",
      "execution_count": 30,
      "metadata": {
        "colab": {
          "base_uri": "https://localhost:8080/",
          "height": 472
        },
        "id": "pPStNiRJ-BW4",
        "outputId": "8d20bb54-b966-4e76-b288-86d839521135"
      },
      "outputs": [
        {
          "output_type": "display_data",
          "data": {
            "text/plain": [
              "<Figure size 640x480 with 1 Axes>"
            ],
            "image/png": "[encoded data removed]"
          },
          "metadata": {}
        }
      ],
      "source": [
        "wine_df.plot.scatter(x='fixed acidity', y='pH')\n",
        "plt.title('Fixed Acidity vs pH')\n",
        "plt.xlabel('Fixed Acidity')\n",
        "plt.ylabel('pH')\n",
        "plt.show()"
      ]
    },
    {
      "cell_type": "markdown",
      "metadata": {
        "id": "srufOcLC-BW4"
      },
      "source": [
        "What can you see in the graph? The higher the fixed acidity, the ... the pH. You shoudn't be surprised, since pH is a scale used to specify how acidic a fluid is."
      ]
    },
    {
      "cell_type": "markdown",
      "metadata": {
        "id": "kVwlE_YZ-BW4"
      },
      "source": [
        "## 3. Histograms\n",
        "\n",
        "Let’s check the quality of the wines. Create a histogram. What qualities occur the most?"
      ]
    },
    {
      "cell_type": "code",
      "execution_count": 31,
      "metadata": {
        "colab": {
          "base_uri": "https://localhost:8080/",
          "height": 472
        },
        "id": "iChaR4F_-BW4",
        "outputId": "c59f742d-fa19-4932-e653-6221a1c7f39f"
      },
      "outputs": [
        {
          "output_type": "display_data",
          "data": {
            "text/plain": [
              "<Figure size 640x480 with 1 Axes>"
            ],
            "image/png": "[encoded data removed]"
          },
          "metadata": {}
        }
      ],
      "source": [
        "wine_df['quality'].plot(kind='hist',bins=int(6))\n",
        "plt.title('Wine Quality')\n",
        "plt.xlabel('Quality')\n",
        "plt.ylabel('Count')\n",
        "plt.show()"
      ]
    },
    {
      "cell_type": "markdown",
      "metadata": {
        "id": "G3MufuJK-BW5"
      },
      "source": [
        "## 4. Data splicing\n",
        "\n",
        "Our next step is to divide the data into independent variables and dependent variables, whose values are to be predicted. To make the predictions we are only using the following independent variables\n",
        "\n",
        "- volatile acidity\n",
        "- citric acid\n",
        "- residual sugar\n",
        "- chlorides\n",
        "- free sulfur dioxide\n",
        "- density\n",
        "- pH\n",
        "- sulphates\n",
        "- alcohol\n",
        "\n",
        "to predict the quality. Create the two datasets and next, split 80% of the data to the training set and 20% to the test set."
      ]
    },
    {
      "cell_type": "code",
      "execution_count": 36,
      "metadata": {
        "id": "8rqVBH4n-BW5"
      },
      "outputs": [],
      "source": [
        "X = wine_df[['volatile acidity', 'citric acid', 'residual sugar', 'chlorides', 'free sulfur dioxide', 'density', 'pH', 'sulphates', 'alcohol']].values\n",
        "y = wine_df['quality'].values.reshape(-1,1)\n",
        "\n",
        "X_train, X_test, y_train, y_test = train_test_split(X, y, test_size=0.2, random_state=0)"
      ]
    },
    {
      "cell_type": "markdown",
      "metadata": {
        "id": "FTcZZJTQ-BW5"
      },
      "source": [
        "Print the independent and dependent training set."
      ]
    },
    {
      "cell_type": "code",
      "execution_count": 22,
      "metadata": {
        "colab": {
          "base_uri": "https://localhost:8080/"
        },
        "id": "fa2HLkvO-BW5",
        "outputId": "34e69fb5-6499-44dd-a4d5-3ef5f90b093a"
      },
      "outputs": [
        {
          "output_type": "stream",
          "name": "stdout",
          "text": [
            "      volatile acidity  citric acid  residual sugar  chlorides  \\\n",
            "642              0.540         0.45             2.3      0.071   \n",
            "679              0.260         0.45             3.3      0.060   \n",
            "473              0.350         0.55             2.1      0.062   \n",
            "390              0.850         0.05             1.4      0.045   \n",
            "1096             0.725         0.09             5.5      0.117   \n",
            "...                ...          ...             ...        ...   \n",
            "763              0.655         0.26             2.0      0.096   \n",
            "835              0.665         0.10             1.5      0.066   \n",
            "1216             0.570         0.31             2.0      0.079   \n",
            "559              0.470         0.49             4.3      0.085   \n",
            "684              0.980         0.32             2.3      0.078   \n",
            "\n",
            "      free sulfur dioxide  density    pH  sulphates  alcohol  \n",
            "642                  16.0  0.99910  3.39       0.62      9.4  \n",
            "679                  20.0  0.99720  3.13       0.54      9.6  \n",
            "473                   5.0  0.99710  3.26       0.79     10.6  \n",
            "390                  12.0  0.99240  3.56       0.82     12.9  \n",
            "1096                  9.0  0.99655  3.35       0.49     10.8  \n",
            "...                   ...      ...   ...        ...      ...  \n",
            "763                   5.0  0.99738  3.25       0.42      9.6  \n",
            "835                  27.0  0.99655  3.39       0.51      9.3  \n",
            "1216                 10.0  0.99677  3.29       0.69      9.5  \n",
            "559                   6.0  1.00210  3.30       0.68     12.7  \n",
            "684                  35.0  0.99800  3.25       0.48      9.4  \n",
            "\n",
            "[1279 rows x 9 columns]\n"
          ]
        }
      ],
      "source": [
        "print(X_train)\n"
      ]
    },
    {
      "cell_type": "code",
      "execution_count": 37,
      "metadata": {
        "colab": {
          "base_uri": "https://localhost:8080/"
        },
        "id": "DqP2BFKt-BW5",
        "outputId": "f18e850a-69d5-426d-eb31-1ffd6b98d5b8"
      },
      "outputs": [
        {
          "output_type": "stream",
          "name": "stdout",
          "text": [
            "[[5]\n",
            " [5]\n",
            " [5]\n",
            " ...\n",
            " [6]\n",
            " [6]\n",
            " [5]]\n"
          ]
        }
      ],
      "source": [
        "print(y_train)"
      ]
    },
    {
      "cell_type": "markdown",
      "metadata": {
        "id": "XM1UZS4u-BW6"
      },
      "source": [
        "## 5. Train the model\n",
        "\n",
        "Now train the model."
      ]
    },
    {
      "cell_type": "code",
      "execution_count": 38,
      "metadata": {
        "colab": {
          "base_uri": "https://localhost:8080/",
          "height": 75
        },
        "id": "cAKxkq-x-BW6",
        "outputId": "e39d3155-f75a-4d46-cbca-b6062472c3e1"
      },
      "outputs": [
        {
          "output_type": "execute_result",
          "data": {
            "text/plain": [
              "LinearRegression()"
            ],
            "text/html": [
              "<style>#sk-container-id-1 {color: black;background-color: white;}#sk-container-id-1 pre{padding: 0;}#sk-container-id-1 div.sk-toggleable {background-color: white;}#sk-container-id-1 label.sk-toggleable__label {cursor: pointer;display: block;width: 100%;margin-bottom: 0;padding: 0.3em;box-sizing: border-box;text-align: center;}#sk-container-id-1 label.sk-toggleable__label-arrow:before {content: \"▸\";float: left;margin-right: 0.25em;color: #696969;}#sk-container-id-1 label.sk-toggleable__label-arrow:hover:before {color: black;}#sk-container-id-1 div.sk-estimator:hover label.sk-toggleable__label-arrow:before {color: black;}#sk-container-id-1 div.sk-toggleable__content {max-height: 0;max-width: 0;overflow: hidden;text-align: left;background-color: #f0f8ff;}#sk-container-id-1 div.sk-toggleable__content pre {margin: 0.2em;color: black;border-radius: 0.25em;background-color: #f0f8ff;}#sk-container-id-1 input.sk-toggleable__control:checked~div.sk-toggleable__content {max-height: 200px;max-width: 100%;overflow: auto;}#sk-container-id-1 input.sk-toggleable__control:checked~label.sk-toggleable__label-arrow:before {content: \"▾\";}#sk-container-id-1 div.sk-estimator input.sk-toggleable__control:checked~label.sk-toggleable__label {background-color: #d4ebff;}#sk-container-id-1 div.sk-label input.sk-toggleable__control:checked~label.sk-toggleable__label {background-color: #d4ebff;}#sk-container-id-1 input.sk-hidden--visually {border: 0;clip: rect(1px 1px 1px 1px);clip: rect(1px, 1px, 1px, 1px);height: 1px;margin: -1px;overflow: hidden;padding: 0;position: absolute;width: 1px;}#sk-container-id-1 div.sk-estimator {font-family: monospace;background-color: #f0f8ff;border: 1px dotted black;border-radius: 0.25em;box-sizing: border-box;margin-bottom: 0.5em;}#sk-container-id-1 div.sk-estimator:hover {background-color: #d4ebff;}#sk-container-id-1 div.sk-parallel-item::after {content: \"\";width: 100%;border-bottom: 1px solid gray;flex-grow: 1;}#sk-container-id-1 div.sk-label:hover label.sk-toggleable__label {background-color: #d4ebff;}#sk-container-id-1 div.sk-serial::before {content: \"\";position: absolute;border-left: 1px solid gray;box-sizing: border-box;top: 0;bottom: 0;left: 50%;z-index: 0;}#sk-container-id-1 div.sk-serial {display: flex;flex-direction: column;align-items: center;background-color: white;padding-right: 0.2em;padding-left: 0.2em;position: relative;}#sk-container-id-1 div.sk-item {position: relative;z-index: 1;}#sk-container-id-1 div.sk-parallel {display: flex;align-items: stretch;justify-content: center;background-color: white;position: relative;}#sk-container-id-1 div.sk-item::before, #sk-container-id-1 div.sk-parallel-item::before {content: \"\";position: absolute;border-left: 1px solid gray;box-sizing: border-box;top: 0;bottom: 0;left: 50%;z-index: -1;}#sk-container-id-1 div.sk-parallel-item {display: flex;flex-direction: column;z-index: 1;position: relative;background-color: white;}#sk-container-id-1 div.sk-parallel-item:first-child::after {align-self: flex-end;width: 50%;}#sk-container-id-1 div.sk-parallel-item:last-child::after {align-self: flex-start;width: 50%;}#sk-container-id-1 div.sk-parallel-item:only-child::after {width: 0;}#sk-container-id-1 div.sk-dashed-wrapped {border: 1px dashed gray;margin: 0 0.4em 0.5em 0.4em;box-sizing: border-box;padding-bottom: 0.4em;background-color: white;}#sk-container-id-1 div.sk-label label {font-family: monospace;font-weight: bold;display: inline-block;line-height: 1.2em;}#sk-container-id-1 div.sk-label-container {text-align: center;}#sk-container-id-1 div.sk-container {/* jupyter's `normalize.less` sets `[hidden] { display: none; }` but bootstrap.min.css set `[hidden] { display: none !important; }` so we also need the `!important` here to be able to override the default hidden behavior on the sphinx rendered scikit-learn.org. See: https://github.com/scikit-learn/scikit-learn/issues/21755 */display: inline-block !important;position: relative;}#sk-container-id-1 div.sk-text-repr-fallback {display: none;}</style><div id=\"sk-container-id-1\" class=\"sk-top-container\"><div class=\"sk-text-repr-fallback\"><pre>LinearRegression()</pre><b>In a Jupyter environment, please rerun this cell to show the HTML representation or trust the notebook. <br />On GitHub, the HTML representation is unable to render, please try loading this page with nbviewer.org.</b></div><div class=\"sk-container\" hidden><div class=\"sk-item\"><div class=\"sk-estimator sk-toggleable\"><input class=\"sk-toggleable__control sk-hidden--visually\" id=\"sk-estimator-id-1\" type=\"checkbox\" checked><label for=\"sk-estimator-id-1\" class=\"sk-toggleable__label sk-toggleable__label-arrow\">LinearRegression</label><div class=\"sk-toggleable__content\"><pre>LinearRegression()</pre></div></div></div></div></div>"
            ]
          },
          "metadata": {},
          "execution_count": 38
        }
      ],
      "source": [
        "model = LinearRegression()\n",
        "model.fit(X_train, y_train)"
      ]
    },
    {
      "cell_type": "markdown",
      "metadata": {
        "id": "AUrFpGT6-BW6"
      },
      "source": [
        "In the case of multivariable linear regression, the regression model has to find the most optimal coefficients for all the attributes. To see what coefficients our regression model has chosen, execute the following script:"
      ]
    },
    {
      "cell_type": "code",
      "execution_count": 39,
      "metadata": {
        "colab": {
          "base_uri": "https://localhost:8080/"
        },
        "id": "V3lD7tTZ-BW6",
        "outputId": "aad8fe84-7d0a-4cac-d12f-d7638c2bc6a0"
      },
      "outputs": [
        {
          "output_type": "stream",
          "name": "stdout",
          "text": [
            "                               0\n",
            "(volatile acidity,)    -1.252481\n",
            "(citric acid,)         -0.216489\n",
            "(residual sugar,)       0.009585\n",
            "(chlorides,)           -1.851510\n",
            "(free sulfur dioxide,) -0.003105\n",
            "(density,)              5.179929\n",
            "(pH,)                  -0.441514\n",
            "(sulphates,)            0.850351\n",
            "(alcohol,)              0.314215\n"
          ]
        }
      ],
      "source": [
        "coefficients = model.coef_.reshape(9,-1)\n",
        "variables = np.array([['volatile acidity', 'citric acid', 'residual sugar', 'chlorides', 'free sulfur dioxide', 'density', 'pH', 'sulphates', 'alcohol']]).reshape(9,-1)\n",
        "\n",
        "coeff = pd.DataFrame(coefficients, variables)\n",
        "\n",
        "print(coeff)"
      ]
    },
    {
      "cell_type": "markdown",
      "metadata": {
        "id": "T9Nhmtb7-BW7"
      },
      "source": [
        "This means that for a unit increase in *density*, there is an increase of 5.17 units in the quality of the wine. Similarly, a unit decrease in *chlorides* results in an increase of 1.85 units in the quality of the wine."
      ]
    },
    {
      "cell_type": "markdown",
      "metadata": {
        "id": "j_W981Dt-BW7"
      },
      "source": [
        "## 6. Predictions\n",
        "\n",
        "Now that we have trained our model, it’s time to make some predictions. Do the prediction on test data."
      ]
    },
    {
      "cell_type": "code",
      "execution_count": 40,
      "metadata": {
        "id": "A1JSMsT1-BW8"
      },
      "outputs": [],
      "source": [
        "y_pred = model.predict(X_test)"
      ]
    },
    {
      "cell_type": "markdown",
      "metadata": {
        "id": "sXtH7tNq-BW8"
      },
      "source": [
        "Print the actual and predicted values for the first 25 wines from the test set."
      ]
    },
    {
      "cell_type": "code",
      "execution_count": 53,
      "metadata": {
        "colab": {
          "base_uri": "https://localhost:8080/",
          "height": 833
        },
        "id": "orbJf5OH-BW9",
        "outputId": "8ce6e320-9d53-4ff4-aa3e-f7fbc568a15c"
      },
      "outputs": [
        {
          "output_type": "execute_result",
          "data": {
            "text/plain": [
              "    Actual  Predicted\n",
              "0        6   5.770024\n",
              "1        5   4.998167\n",
              "2        7   6.555406\n",
              "3        6   5.309407\n",
              "4        5   5.802326\n",
              "5        6   5.160463\n",
              "6        5   5.346038\n",
              "7        6   5.900482\n",
              "8        4   4.770874\n",
              "9        5   5.037561\n",
              "10       5   5.254431\n",
              "11       5   5.464691\n",
              "12       6   5.713499\n",
              "13       5   5.125334\n",
              "14       6   5.481531\n",
              "15       6   6.325166\n",
              "16       7   6.791833\n",
              "17       5   5.764584\n",
              "18       5   5.949647\n",
              "19       4   5.056578\n",
              "20       7   6.320042\n",
              "21       6   5.129935\n",
              "22       6   5.629561\n",
              "23       4   6.334160\n",
              "24       6   5.516534"
            ],
            "text/html": [
              "\n",
              "  <div id=\"df-63cda6e9-53b7-4a3c-8317-f04194f58280\" class=\"colab-df-container\">\n",
              "    <div>\n",
              "<style scoped>\n",
              "    .dataframe tbody tr th:only-of-type {\n",
              "        vertical-align: middle;\n",
              "    }\n",
              "\n",
              "    .dataframe tbody tr th {\n",
              "        vertical-align: top;\n",
              "    }\n",
              "\n",
              "    .dataframe thead th {\n",
              "        text-align: right;\n",
              "    }\n",
              "</style>\n",
              "<table border=\"1\" class=\"dataframe\">\n",
              "  <thead>\n",
              "    <tr style=\"text-align: right;\">\n",
              "      <th></th>\n",
              "      <th>Actual</th>\n",
              "      <th>Predicted</th>\n",
              "    </tr>\n",
              "  </thead>\n",
              "  <tbody>\n",
              "    <tr>\n",
              "      <th>0</th>\n",
              "      <td>6</td>\n",
              "      <td>5.770024</td>\n",
              "    </tr>\n",
              "    <tr>\n",
              "      <th>1</th>\n",
              "      <td>5</td>\n",
              "      <td>4.998167</td>\n",
              "    </tr>\n",
              "    <tr>\n",
              "      <th>2</th>\n",
              "      <td>7</td>\n",
              "      <td>6.555406</td>\n",
              "    </tr>\n",
              "    <tr>\n",
              "      <th>3</th>\n",
              "      <td>6</td>\n",
              "      <td>5.309407</td>\n",
              "    </tr>\n",
              "    <tr>\n",
              "      <th>4</th>\n",
              "      <td>5</td>\n",
              "      <td>5.802326</td>\n",
              "    </tr>\n",
              "    <tr>\n",
              "      <th>5</th>\n",
              "      <td>6</td>\n",
              "      <td>5.160463</td>\n",
              "    </tr>\n",
              "    <tr>\n",
              "      <th>6</th>\n",
              "      <td>5</td>\n",
              "      <td>5.346038</td>\n",
              "    </tr>\n",
              "    <tr>\n",
              "      <th>7</th>\n",
              "      <td>6</td>\n",
              "      <td>5.900482</td>\n",
              "    </tr>\n",
              "    <tr>\n",
              "      <th>8</th>\n",
              "      <td>4</td>\n",
              "      <td>4.770874</td>\n",
              "    </tr>\n",
              "    <tr>\n",
              "      <th>9</th>\n",
              "      <td>5</td>\n",
              "      <td>5.037561</td>\n",
              "    </tr>\n",
              "    <tr>\n",
              "      <th>10</th>\n",
              "      <td>5</td>\n",
              "      <td>5.254431</td>\n",
              "    </tr>\n",
              "    <tr>\n",
              "      <th>11</th>\n",
              "      <td>5</td>\n",
              "      <td>5.464691</td>\n",
              "    </tr>\n",
              "    <tr>\n",
              "      <th>12</th>\n",
              "      <td>6</td>\n",
              "      <td>5.713499</td>\n",
              "    </tr>\n",
              "    <tr>\n",
              "      <th>13</th>\n",
              "      <td>5</td>\n",
              "      <td>5.125334</td>\n",
              "    </tr>\n",
              "    <tr>\n",
              "      <th>14</th>\n",
              "      <td>6</td>\n",
              "      <td>5.481531</td>\n",
              "    </tr>\n",
              "    <tr>\n",
              "      <th>15</th>\n",
              "      <td>6</td>\n",
              "      <td>6.325166</td>\n",
              "    </tr>\n",
              "    <tr>\n",
              "      <th>16</th>\n",
              "      <td>7</td>\n",
              "      <td>6.791833</td>\n",
              "    </tr>\n",
              "    <tr>\n",
              "      <th>17</th>\n",
              "      <td>5</td>\n",
              "      <td>5.764584</td>\n",
              "    </tr>\n",
              "    <tr>\n",
              "      <th>18</th>\n",
              "      <td>5</td>\n",
              "      <td>5.949647</td>\n",
              "    </tr>\n",
              "    <tr>\n",
              "      <th>19</th>\n",
              "      <td>4</td>\n",
              "      <td>5.056578</td>\n",
              "    </tr>\n",
              "    <tr>\n",
              "      <th>20</th>\n",
              "      <td>7</td>\n",
              "      <td>6.320042</td>\n",
              "    </tr>\n",
              "    <tr>\n",
              "      <th>21</th>\n",
              "      <td>6</td>\n",
              "      <td>5.129935</td>\n",
              "    </tr>\n",
              "    <tr>\n",
              "      <th>22</th>\n",
              "      <td>6</td>\n",
              "      <td>5.629561</td>\n",
              "    </tr>\n",
              "    <tr>\n",
              "      <th>23</th>\n",
              "      <td>4</td>\n",
              "      <td>6.334160</td>\n",
              "    </tr>\n",
              "    <tr>\n",
              "      <th>24</th>\n",
              "      <td>6</td>\n",
              "      <td>5.516534</td>\n",
              "    </tr>\n",
              "  </tbody>\n",
              "</table>\n",
              "</div>\n",
              "    <div class=\"colab-df-buttons\">\n",
              "\n",
              "  <div class=\"colab-df-container\">\n",
              "    <button class=\"colab-df-convert\" onclick=\"convertToInteractive('df-63cda6e9-53b7-4a3c-8317-f04194f58280')\"\n",
              "            title=\"Convert this dataframe to an interactive table.\"\n",
              "            style=\"display:none;\">\n",
              "\n",
              "  <svg xmlns=\"http://www.w3.org/2000/svg\" height=\"24px\" viewBox=\"0 -960 960 960\">\n",
              "    <path d=\"M120-120v-720h720v720H120Zm60-500h600v-160H180v160Zm220 220h160v-160H400v160Zm0 220h160v-160H400v160ZM180-400h160v-160H180v160Zm440 0h160v-160H620v160ZM180-180h160v-160H180v160Zm440 0h160v-160H620v160Z\"/>\n",
              "  </svg>\n",
              "    </button>\n",
              "\n",
              "  <style>\n",
              "    .colab-df-container {\n",
              "      display:flex;\n",
              "      gap: 12px;\n",
              "    }\n",
              "\n",
              "    .colab-df-convert {\n",
              "      background-color: #E8F0FE;\n",
              "      border: none;\n",
              "      border-radius: 50%;\n",
              "      cursor: pointer;\n",
              "      display: none;\n",
              "      fill: #1967D2;\n",
              "      height: 32px;\n",
              "      padding: 0 0 0 0;\n",
              "      width: 32px;\n",
              "    }\n",
              "\n",
              "    .colab-df-convert:hover {\n",
              "      background-color: #E2EBFA;\n",
              "      box-shadow: 0px 1px 2px rgba(60, 64, 67, 0.3), 0px 1px 3px 1px rgba(60, 64, 67, 0.15);\n",
              "      fill: #174EA6;\n",
              "    }\n",
              "\n",
              "    .colab-df-buttons div {\n",
              "      margin-bottom: 4px;\n",
              "    }\n",
              "\n",
              "    [theme=dark] .colab-df-convert {\n",
              "      background-color: #3B4455;\n",
              "      fill: #D2E3FC;\n",
              "    }\n",
              "\n",
              "    [theme=dark] .colab-df-convert:hover {\n",
              "      background-color: #434B5C;\n",
              "      box-shadow: 0px 1px 3px 1px rgba(0, 0, 0, 0.15);\n",
              "      filter: drop-shadow(0px 1px 2px rgba(0, 0, 0, 0.3));\n",
              "      fill: #FFFFFF;\n",
              "    }\n",
              "  </style>\n",
              "\n",
              "    <script>\n",
              "      const buttonEl =\n",
              "        document.querySelector('#df-63cda6e9-53b7-4a3c-8317-f04194f58280 button.colab-df-convert');\n",
              "      buttonEl.style.display =\n",
              "        google.colab.kernel.accessAllowed ? 'block' : 'none';\n",
              "\n",
              "      async function convertToInteractive(key) {\n",
              "        const element = document.querySelector('#df-63cda6e9-53b7-4a3c-8317-f04194f58280');\n",
              "        const dataTable =\n",
              "          await google.colab.kernel.invokeFunction('convertToInteractive',\n",
              "                                                    [key], {});\n",
              "        if (!dataTable) return;\n",
              "\n",
              "        const docLinkHtml = 'Like what you see? Visit the ' +\n",
              "          '<a target=\"_blank\" href=https://colab.research.google.com/notebooks/data_table.ipynb>data table notebook</a>'\n",
              "          + ' to learn more about interactive tables.';\n",
              "        element.innerHTML = '';\n",
              "        dataTable['output_type'] = 'display_data';\n",
              "        await google.colab.output.renderOutput(dataTable, element);\n",
              "        const docLink = document.createElement('div');\n",
              "        docLink.innerHTML = docLinkHtml;\n",
              "        element.appendChild(docLink);\n",
              "      }\n",
              "    </script>\n",
              "  </div>\n",
              "\n",
              "\n",
              "<div id=\"df-8c4ac532-5ef7-4a70-bb18-e5f21b7cf5cd\">\n",
              "  <button class=\"colab-df-quickchart\" onclick=\"quickchart('df-8c4ac532-5ef7-4a70-bb18-e5f21b7cf5cd')\"\n",
              "            title=\"Suggest charts\"\n",
              "            style=\"display:none;\">\n",
              "\n",
              "<svg xmlns=\"http://www.w3.org/2000/svg\" height=\"24px\"viewBox=\"0 0 24 24\"\n",
              "     width=\"24px\">\n",
              "    <g>\n",
              "        <path d=\"M19 3H5c-1.1 0-2 .9-2 2v14c0 1.1.9 2 2 2h14c1.1 0 2-.9 2-2V5c0-1.1-.9-2-2-2zM9 17H7v-7h2v7zm4 0h-2V7h2v10zm4 0h-2v-4h2v4z\"/>\n",
              "    </g>\n",
              "</svg>\n",
              "  </button>\n",
              "\n",
              "<style>\n",
              "  .colab-df-quickchart {\n",
              "      --bg-color: #E8F0FE;\n",
              "      --fill-color: #1967D2;\n",
              "      --hover-bg-color: #E2EBFA;\n",
              "      --hover-fill-color: #174EA6;\n",
              "      --disabled-fill-color: #AAA;\n",
              "      --disabled-bg-color: #DDD;\n",
              "  }\n",
              "\n",
              "  [theme=dark] .colab-df-quickchart {\n",
              "      --bg-color: #3B4455;\n",
              "      --fill-color: #D2E3FC;\n",
              "      --hover-bg-color: #434B5C;\n",
              "      --hover-fill-color: #FFFFFF;\n",
              "      --disabled-bg-color: #3B4455;\n",
              "      --disabled-fill-color: #666;\n",
              "  }\n",
              "\n",
              "  .colab-df-quickchart {\n",
              "    background-color: var(--bg-color);\n",
              "    border: none;\n",
              "    border-radius: 50%;\n",
              "    cursor: pointer;\n",
              "    display: none;\n",
              "    fill: var(--fill-color);\n",
              "    height: 32px;\n",
              "    padding: 0;\n",
              "    width: 32px;\n",
              "  }\n",
              "\n",
              "  .colab-df-quickchart:hover {\n",
              "    background-color: var(--hover-bg-color);\n",
              "    box-shadow: 0 1px 2px rgba(60, 64, 67, 0.3), 0 1px 3px 1px rgba(60, 64, 67, 0.15);\n",
              "    fill: var(--button-hover-fill-color);\n",
              "  }\n",
              "\n",
              "  .colab-df-quickchart-complete:disabled,\n",
              "  .colab-df-quickchart-complete:disabled:hover {\n",
              "    background-color: var(--disabled-bg-color);\n",
              "    fill: var(--disabled-fill-color);\n",
              "    box-shadow: none;\n",
              "  }\n",
              "\n",
              "  .colab-df-spinner {\n",
              "    border: 2px solid var(--fill-color);\n",
              "    border-color: transparent;\n",
              "    border-bottom-color: var(--fill-color);\n",
              "    animation:\n",
              "      spin 1s steps(1) infinite;\n",
              "  }\n",
              "\n",
              "  @keyframes spin {\n",
              "    0% {\n",
              "      border-color: transparent;\n",
              "      border-bottom-color: var(--fill-color);\n",
              "      border-left-color: var(--fill-color);\n",
              "    }\n",
              "    20% {\n",
              "      border-color: transparent;\n",
              "      border-left-color: var(--fill-color);\n",
              "      border-top-color: var(--fill-color);\n",
              "    }\n",
              "    30% {\n",
              "      border-color: transparent;\n",
              "      border-left-color: var(--fill-color);\n",
              "      border-top-color: var(--fill-color);\n",
              "      border-right-color: var(--fill-color);\n",
              "    }\n",
              "    40% {\n",
              "      border-color: transparent;\n",
              "      border-right-color: var(--fill-color);\n",
              "      border-top-color: var(--fill-color);\n",
              "    }\n",
              "    60% {\n",
              "      border-color: transparent;\n",
              "      border-right-color: var(--fill-color);\n",
              "    }\n",
              "    80% {\n",
              "      border-color: transparent;\n",
              "      border-right-color: var(--fill-color);\n",
              "      border-bottom-color: var(--fill-color);\n",
              "    }\n",
              "    90% {\n",
              "      border-color: transparent;\n",
              "      border-bottom-color: var(--fill-color);\n",
              "    }\n",
              "  }\n",
              "</style>\n",
              "\n",
              "  <script>\n",
              "    async function quickchart(key) {\n",
              "      const quickchartButtonEl =\n",
              "        document.querySelector('#' + key + ' button');\n",
              "      quickchartButtonEl.disabled = true;  // To prevent multiple clicks.\n",
              "      quickchartButtonEl.classList.add('colab-df-spinner');\n",
              "      try {\n",
              "        const charts = await google.colab.kernel.invokeFunction(\n",
              "            'suggestCharts', [key], {});\n",
              "      } catch (error) {\n",
              "        console.error('Error during call to suggestCharts:', error);\n",
              "      }\n",
              "      quickchartButtonEl.classList.remove('colab-df-spinner');\n",
              "      quickchartButtonEl.classList.add('colab-df-quickchart-complete');\n",
              "    }\n",
              "    (() => {\n",
              "      let quickchartButtonEl =\n",
              "        document.querySelector('#df-8c4ac532-5ef7-4a70-bb18-e5f21b7cf5cd button');\n",
              "      quickchartButtonEl.style.display =\n",
              "        google.colab.kernel.accessAllowed ? 'block' : 'none';\n",
              "    })();\n",
              "  </script>\n",
              "</div>\n",
              "\n",
              "    </div>\n",
              "  </div>\n"
            ],
            "application/vnd.google.colaboratory.intrinsic+json": {
              "type": "dataframe",
              "variable_name": "compare_df",
              "summary": "{\n  \"name\": \"compare_df\",\n  \"rows\": 320,\n  \"fields\": [\n    {\n      \"column\": \"Actual\",\n      \"properties\": {\n        \"dtype\": \"number\",\n        \"std\": 0,\n        \"min\": 3,\n        \"max\": 8,\n        \"num_unique_values\": 6,\n        \"samples\": [\n          6,\n          5,\n          3\n        ],\n        \"semantic_type\": \"\",\n        \"description\": \"\"\n      }\n    },\n    {\n      \"column\": \"Predicted\",\n      \"properties\": {\n        \"dtype\": \"number\",\n        \"std\": 0.4843122378670226,\n        \"min\": 4.625707729313174,\n        \"max\": 7.018732137760144,\n        \"num_unique_values\": 310,\n        \"samples\": [\n          5.2062872902372614,\n          5.0375605145661435,\n          5.282583966619827\n        ],\n        \"semantic_type\": \"\",\n        \"description\": \"\"\n      }\n    }\n  ]\n}"
            }
          },
          "metadata": {},
          "execution_count": 53
        }
      ],
      "source": [
        "compare_df = pd.DataFrame({'Actual': y_test.flatten(), 'Predicted': y_pred.flatten()})\n",
        "compare_df.head(25)"
      ]
    },
    {
      "cell_type": "markdown",
      "metadata": {
        "id": "dYsfSGog-BW9"
      },
      "source": [
        "Visualize the comparison result as a bar graph. Take only the first 10 results."
      ]
    },
    {
      "cell_type": "code",
      "execution_count": 54,
      "metadata": {
        "colab": {
          "base_uri": "https://localhost:8080/",
          "height": 467
        },
        "id": "5ggim2TU-BW9",
        "outputId": "028ac426-7ec8-4808-d432-231e5d75af6b"
      },
      "outputs": [
        {
          "output_type": "display_data",
          "data": {
            "text/plain": [
              "<Figure size 640x480 with 1 Axes>"
            ],
            "image/png": "[encoded data removed]"
          },
          "metadata": {}
        }
      ],
      "source": [
        "compare_df.head(10).plot(kind='bar')\n",
        "plt.title('Actual vs Predicted')\n",
        "plt.xlabel('Index')\n",
        "plt.ylabel('Quality')\n",
        "plt.show()"
      ]
    },
    {
      "cell_type": "markdown",
      "metadata": {
        "id": "LsGNLxcJ-BW9"
      },
      "source": [
        "The final step is to evaluate the performance of the algorithm. Since R² = 1 corresponds to the perfect fit, what can you conclude?"
      ]
    },
    {
      "cell_type": "code",
      "execution_count": 58,
      "metadata": {
        "colab": {
          "base_uri": "https://localhost:8080/"
        },
        "id": "LbbgxZzN-BW9",
        "outputId": "d5e8ac86-66a9-4d6c-a443-f97cc7b0947c"
      },
      "outputs": [
        {
          "output_type": "stream",
          "name": "stdout",
          "text": [
            "Mean absolute error = 0.48\n",
            "Mean squared error = 0.39\n",
            "Root mean squared error = 0.63\n",
            "R² = 0.31\n"
          ]
        }
      ],
      "source": [
        "from sklearn import metrics\n",
        "\n",
        "print(\"Mean absolute error =\", round(metrics.mean_absolute_error(y_test, y_pred), 2))\n",
        "print(\"Mean squared error =\", round(metrics.mean_squared_error(y_test, y_pred), 2))\n",
        "print(\"Root mean squared error =\", round(np.sqrt(metrics.mean_squared_error(y_test, y_pred)), 2))\n",
        "print(\"R² =\", round(metrics.r2_score(y_test, y_pred), 2))"
      ]
    },
    {
      "cell_type": "code",
      "execution_count": null,
      "metadata": {
        "id": "PCYmH5jh-BW9"
      },
      "outputs": [],
      "source": [
        "# answer: value of R²?\n",
        "# ok?"
      ]
    },
    {
      "cell_type": "markdown",
      "metadata": {
        "id": "bjasbD1--BW-"
      },
      "source": [
        "Finaly can you predict the quality of my wine (details above)? Is it a good wine according to our model?"
      ]
    },
    {
      "cell_type": "code",
      "execution_count": 59,
      "metadata": {
        "colab": {
          "base_uri": "https://localhost:8080/"
        },
        "id": "usJZTSna-BW_",
        "outputId": "db3d70db-8b6c-426b-ce3b-5a04b1a52933"
      },
      "outputs": [
        {
          "output_type": "stream",
          "name": "stdout",
          "text": [
            "[[7.18304495]]\n"
          ]
        }
      ],
      "source": [
        "my_wine =  [[0.650, 0.00, 1.2, 0.089, 21.0, 1.3946, 3.39, 0.53, 9.6]]\n",
        "my_wine_pred = model.predict(my_wine)\n",
        "print(my_wine_pred)"
      ]
    },
    {
      "cell_type": "code",
      "execution_count": null,
      "metadata": {
        "id": "ccdK6eqP-BW_"
      },
      "outputs": [],
      "source": [
        "# answer: quality of wine?\n",
        "#good"
      ]
    }
  ],
  "metadata": {
    "kernelspec": {
      "display_name": "Python 3.10.6 ('ML_env': venv)",
      "language": "python",
      "name": "python3"
    },
    "language_info": {
      "codemirror_mode": {
        "name": "ipython",
        "version": 3
      },
      "file_extension": ".py",
      "mimetype": "text/x-python",
      "name": "python",
      "nbconvert_exporter": "python",
      "pygments_lexer": "ipython3",
      "version": "3.10.6"
    },
    "vscode": {
      "interpreter": {
        "hash": "3762fa38335283772957b8ad4850e1d344741e862c3aa7ec1c26d17780db6975"
      }
    },
    "colab": {
      "provenance": []
    }
  },
  "nbformat": 4,
  "nbformat_minor": 0
}