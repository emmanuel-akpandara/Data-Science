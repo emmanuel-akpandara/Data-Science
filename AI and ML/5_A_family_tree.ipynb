{
  "cells": [
    {
      "cell_type": "markdown",
      "metadata": {
        "id": "2iwzbi8YAbEV"
      },
      "source": [
        "# A family tree - Exercise\n",
        "\n",
        "Now that we are more familiar with logic programming, let's use it to solve an interesting\n",
        "problem. Consider the following family tree:\n",
        "\n",
        "<img src=\"./resources/tree.png\"  style=\"height: 400px\"/>\n",
        "\n",
        "John and Megan have three sons – William, David, and Adam. The wives of William,\n",
        "David, and Adam are Emma, Olivia, and Lily respectively. William and Emma have two\n",
        "children – Chris and Stephanie. David and Olivia have five children – Wayne, Tiffany, Julie,\n",
        "Neil, and Peter. Adam and Lily have one child – Sophia.\n",
        "\n",
        "Based on these facts, can we create\n",
        "a program that can tell us the name of Wayne's grandfather? Or tell us who Sophia's uncles are?"
      ]
    },
    {
      "cell_type": "markdown",
      "metadata": {
        "id": "0dZtf6iVAbEe"
      },
      "source": [
        "## 1. Facts\n",
        "\n",
        "Define the two relations and the facts that represent the tree above:"
      ]
    },
    {
      "cell_type": "code",
      "execution_count": 1,
      "metadata": {
        "id": "T72QPfrrAbEg"
      },
      "outputs": [],
      "source": [
        "from kanren import run, eq, var, conde, Relation, facts\n",
        "\n",
        "father = Relation()\n",
        "mother = Relation()\n",
        "\n",
        "facts(father, (\"John\", \"William\"),\n",
        "              (\"John\", \"David\"),\n",
        "              (\"John\", \"Adam\"),\n",
        "              (\"William\", \"Chris\"),\n",
        "              (\"William\", \"Stephanie\"),\n",
        "              (\"David\", \"Wayne\"),\n",
        "              (\"David\", \"Tiffany\"),\n",
        "              (\"David\", \"Julie\"),\n",
        "              (\"David\", \"Neil\"),\n",
        "              (\"David\", \"Peter\"),\n",
        "              (\"Adam\", \"Sophia\"))\n",
        "\n",
        "facts(mother, (\"Megan\", \"William\"),\n",
        "              (\"Megan\", \"David\"),\n",
        "              (\"Megan\", \"Adam\"),\n",
        "              (\"Emma\", \"Stephanie\"),\n",
        "              (\"Emma\", \"Chris\"),\n",
        "              (\"Olivia\", \"Tiffany\"),\n",
        "              (\"Olivia\", \"Julie\"),\n",
        "              (\"Olivia\", \"Neil\"),\n",
        "              (\"Olivia\", \"Peter\"),\n",
        "              (\"Lily\", \"Sophia\"))"
      ]
    },
    {
      "cell_type": "markdown",
      "metadata": {
        "id": "xPOxDDnhAbEj"
      },
      "source": [
        "## 2. Rules\n",
        "\n",
        "Write a rule for each of the cases below:"
      ]
    },
    {
      "cell_type": "code",
      "execution_count": 3,
      "metadata": {
        "id": "k4yohf9aAbEk"
      },
      "outputs": [],
      "source": [
        "# Check if x is the parent of y => x is the father OR the mother of y\n",
        "def parent(x, y):\n",
        "    return conde([father(x,y)],[mother(x,y)])\n",
        "\n",
        "# Check if x is the grandparent of y => x is the parent of the parent of y\n",
        "def grandparent(x, y):\n",
        "    z = var()\n",
        "    return conde( (parent(x,z), parent(z,y)) )\n",
        "\n",
        "# Check for sibling relationship between x and y => they have the same parent\n",
        "def sibling(x, y):\n",
        "    z = var()\n",
        "    return conde((parent(z,x),parent(z,y)))\n",
        "\n",
        "# Check if x is y's uncle => the father of x is the grandparent of y\n",
        "def uncle(x, y):\n",
        "    z = var()\n",
        "    return conde((parent(z,x),grandparent(z,y)))\n"
      ]
    },
    {
      "cell_type": "markdown",
      "metadata": {
        "id": "sTq9Rt3tAbEk"
      },
      "source": [
        "You can check your rules by executing the following code. Check in the family tree above if Kanren displays the right answers."
      ]
    },
    {
      "cell_type": "code",
      "execution_count": 5,
      "metadata": {
        "colab": {
          "base_uri": "https://localhost:8080/"
        },
        "id": "j67GgGeyAbEl",
        "outputId": "dd981f67-6c2b-4aa3-ee0a-8f1c6c833390"
      },
      "outputs": [
        {
          "output_type": "stream",
          "name": "stdout",
          "text": [
            "('David', 'Olivia')\n",
            "('Chris', 'Sophia', 'Wayne', 'Stephanie', 'Neil', 'Julie', 'Peter', 'Tiffany')\n",
            "('Peter', 'Wayne', 'Neil', 'Tiffany', 'Julie', 'Neil', 'Julie', 'Peter', 'Tiffany')\n",
            "('Adam', 'Adam', 'David', 'William', 'William', 'David')\n"
          ]
        }
      ],
      "source": [
        "x = var()\n",
        "\n",
        "print(run(0, x, parent(x, \"Julie\")))\n",
        "print(run(0, x, grandparent(\"John\", x)))\n",
        "print(run(0, x, sibling(x, \"Peter\")))\n",
        "print(run(0, x, uncle(x, \"Peter\")))"
      ]
    },
    {
      "cell_type": "markdown",
      "metadata": {
        "id": "vlcqDkt5AbEm"
      },
      "source": [
        "## 3. Ask Kanren\n",
        "\n",
        "Now that our facts and rules are ready, we can ask Kanren anything we would like to know. Complete the code if necessary."
      ]
    },
    {
      "source": [
        "# John's children\n",
        "name = \"John\"\n",
        "output = run(0, x, parent(\"John\", x)) # Remove the print statement here\n",
        "print(\"\\nList of %s's children:\" % name)\n",
        "for item in output:\n",
        "    print(item)"
      ],
      "cell_type": "code",
      "metadata": {
        "colab": {
          "base_uri": "https://localhost:8080/"
        },
        "id": "67yvbL-EGYdr",
        "outputId": "94fa70d0-9821-4d5f-d47f-ddf6f80f93d7"
      },
      "execution_count": 7,
      "outputs": [
        {
          "output_type": "stream",
          "name": "stdout",
          "text": [
            "\n",
            "List of John's children:\n",
            "William\n",
            "Adam\n",
            "David\n"
          ]
        }
      ]
    },
    {
      "cell_type": "code",
      "execution_count": 8,
      "metadata": {
        "colab": {
          "base_uri": "https://localhost:8080/"
        },
        "id": "cuA0PadOAbEn",
        "outputId": "7a1a853c-8237-42fe-d4ad-38a9585b521e"
      },
      "outputs": [
        {
          "output_type": "stream",
          "name": "stdout",
          "text": [
            "\n",
            " William's mother: Megan\n",
            "\n"
          ]
        }
      ],
      "source": [
        "# William's mother\n",
        "name = \"William\"\n",
        "output = run(0, x, mother(x, \"William\")) # Remove the print statement here\n",
        "print(\"\\n %s's mother: %s\\n\" % (name, output[0]))"
      ]
    },
    {
      "cell_type": "code",
      "execution_count": 9,
      "metadata": {
        "colab": {
          "base_uri": "https://localhost:8080/"
        },
        "id": "FG7z_XeCAbEo",
        "outputId": "0c5c6a3c-c0a0-41a0-cccf-11d0a8d89e95"
      },
      "outputs": [
        {
          "output_type": "stream",
          "name": "stdout",
          "text": [
            "\n",
            "List of Adam's parents:\n",
            "John\n",
            "Megan\n"
          ]
        }
      ],
      "source": [
        "# Adam's parents\n",
        "name = \"Adam\"\n",
        "output = run(0, x, parent(x, \"Adam\")) # Remove the print statement here\n",
        "print(\"\\nList of %s's parents:\" % name)\n",
        "for item in output:\n",
        "    print(item)"
      ]
    },
    {
      "cell_type": "code",
      "execution_count": 10,
      "metadata": {
        "colab": {
          "base_uri": "https://localhost:8080/"
        },
        "id": "rh9HjCmTAbEp",
        "outputId": "15b20736-378f-4b8f-d899-2d90d701252c"
      },
      "outputs": [
        {
          "output_type": "stream",
          "name": "stdout",
          "text": [
            "\n",
            "List of Wayne's grandparents:\n",
            "John\n",
            "Megan\n"
          ]
        }
      ],
      "source": [
        "# Wayne's grandparents\n",
        "name = \"Wayne\"\n",
        "output = run(0, x, grandparent(x, \"Wayne\")) # Remove the print statement here\n",
        "print(\"\\nList of %s's grandparents:\" % name)\n",
        "for item in output:\n",
        "    print(item)"
      ]
    },
    {
      "cell_type": "code",
      "execution_count": 12,
      "metadata": {
        "colab": {
          "base_uri": "https://localhost:8080/"
        },
        "id": "5p7NYyH-AbEp",
        "outputId": "f9c34850-6a8b-47b2-9fca-950112659453"
      },
      "outputs": [
        {
          "output_type": "stream",
          "name": "stdout",
          "text": [
            "\n",
            "List of Megan's grandchildren:\n",
            "Wayne\n",
            "Chris\n",
            "Sophia\n",
            "Neil\n",
            "Stephanie\n",
            "Julie\n",
            "Peter\n",
            "Tiffany\n"
          ]
        }
      ],
      "source": [
        "# Megan's grandchildren\n",
        "name = \"Megan\"\n",
        "output = run(0, x, grandparent(\"Megan\", x)) # Remove the print statement here\n",
        "print(\"\\nList of %s's grandchildren:\" % name)\n",
        "for item in output:\n",
        "    print(item)"
      ]
    },
    {
      "cell_type": "code",
      "execution_count": 14,
      "metadata": {
        "colab": {
          "base_uri": "https://localhost:8080/"
        },
        "id": "4TL0V5oqAbEq",
        "outputId": "838f5a14-ceae-4f33-fc83-5d5ff28beafa"
      },
      "outputs": [
        {
          "output_type": "stream",
          "name": "stdout",
          "text": [
            "\n",
            "List of Neil's siblings:\n",
            "Peter\n",
            "Wayne\n",
            "Tiffany\n",
            "Julie\n",
            "Julie\n",
            "Peter\n",
            "Tiffany\n"
          ]
        }
      ],
      "source": [
        "# Neil's siblings\n",
        "name = \"Neil\"\n",
        "output = run(0, x, sibling(x, \"Neil\")) # Remove the print statement here\n",
        "siblings = [x for x in output if x != name] # you can't be a sibling of yourself\n",
        "print(\"\\nList of %s's siblings:\" % name)\n",
        "for item in siblings:\n",
        "    print(item)"
      ]
    },
    {
      "cell_type": "code",
      "execution_count": 15,
      "metadata": {
        "colab": {
          "base_uri": "https://localhost:8080/"
        },
        "id": "jvPklFeRAbEq",
        "outputId": "8e23f28a-639d-4da1-ab0d-9e58967baa7f"
      },
      "outputs": [
        {
          "output_type": "stream",
          "name": "stdout",
          "text": [
            "\n",
            "List of Sophia's uncles:\n",
            "David\n",
            "William\n",
            "William\n",
            "David\n"
          ]
        }
      ],
      "source": [
        "# Sophia's uncles\n",
        "name = \"Sophia\"\n",
        "name_father = run(0, x, father(x, name))[0]\n",
        "output = run(0, x, uncle(x, \"Sophia\")) # Remove the print statement here\n",
        "output = [x for x in output if x != name_father] # your father is not your uncle\n",
        "print(\"\\nList of %s's uncles:\" % name)\n",
        "for item in output:\n",
        "    print(item)"
      ]
    },
    {
      "cell_type": "code",
      "execution_count": 16,
      "metadata": {
        "colab": {
          "base_uri": "https://localhost:8080/"
        },
        "id": "5r9yFuvaAbEr",
        "outputId": "e418e737-0336-4fb1-9e63-2a97038fdfe9"
      },
      "outputs": [
        {
          "output_type": "stream",
          "name": "stdout",
          "text": [
            "\n",
            "List of all spouses:\n",
            "Husband: William <==> Wife: Emma\n",
            "Husband: John <==> Wife: Megan\n",
            "Husband: David <==> Wife: Olivia\n",
            "Husband: Adam <==> Wife: Lily\n",
            "Husband: John <==> Wife: Megan\n",
            "Husband: John <==> Wife: Megan\n",
            "Husband: David <==> Wife: Olivia\n",
            "Husband: David <==> Wife: Olivia\n",
            "Husband: David <==> Wife: Olivia\n",
            "Husband: William <==> Wife: Emma\n"
          ]
        }
      ],
      "source": [
        "# All spouses\n",
        "a, b, c = var(), var(), var()\n",
        "output = run(0, (a, b), father(a, c), mother(b, c))\n",
        "print(\"\\nList of all spouses:\")\n",
        "for item in output:\n",
        "    print('Husband: %s <==> Wife: %s' % item)"
      ]
    }
  ],
  "metadata": {
    "kernelspec": {
      "display_name": "Python 3",
      "name": "python3"
    },
    "language_info": {
      "codemirror_mode": {
        "name": "ipython",
        "version": 3
      },
      "file_extension": ".py",
      "mimetype": "text/x-python",
      "name": "python",
      "nbconvert_exporter": "python",
      "pygments_lexer": "ipython3",
      "version": "3.9.4"
    },
    "vscode": {
      "interpreter": {
        "hash": "3fc13ab7e79b368e8913ee9489736a3ec6aa6e620b54b7989a5eeb0416c11724"
      }
    },
    "colab": {
      "provenance": []
    }
  },
  "nbformat": 4,
  "nbformat_minor": 0
}