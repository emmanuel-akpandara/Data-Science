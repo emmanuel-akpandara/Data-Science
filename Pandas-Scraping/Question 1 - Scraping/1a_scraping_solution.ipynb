{
 "cells": [
  {
   "attachments": {},
   "cell_type": "markdown",
   "metadata": {},
   "source": [
    "NAME:  Emmanuel Akpandara\n",
    "STUDENT NUMBER: r0879038"
   ]
  },
  {
   "attachments": {},
   "cell_type": "markdown",
   "metadata": {},
   "source": [
    "# Question 1  \n",
    "## 1a: Scraping\n",
    "\n",
    "You are going to extract data from http://books.toscrape.com. This site is built for scraping. \n",
    "\n",
    "Goal is to download the 20 book titles and their sales prices on the site's first page: \n",
    "\n",
    "First install the necessary libraries. When you already have those libs installed, don't run this cell. "
   ]
  },
  {
   "cell_type": "code",
   "execution_count": null,
   "metadata": {},
   "outputs": [],
   "source": [
    "# Only run if not already installed!\n",
    "\n",
    "! pip install requests\n",
    "! pip install BeautifulSoup4"
   ]
  },
  {
   "attachments": {},
   "cell_type": "markdown",
   "metadata": {},
   "source": [
    "Next import some packages.  \n",
    "Just run this cell. "
   ]
  },
  {
   "cell_type": "code",
   "execution_count": 1,
   "metadata": {},
   "outputs": [],
   "source": [
    "import requests\n",
    "from bs4 import BeautifulSoup"
   ]
  },
  {
   "attachments": {},
   "cell_type": "markdown",
   "metadata": {},
   "source": [
    "The next cell downloads the full page and shows the first and last 100 characters. After running this cell, you have the entire page locally. "
   ]
  },
  {
   "cell_type": "code",
   "execution_count": 2,
   "metadata": {},
   "outputs": [
    {
     "name": "stdout",
     "output_type": "stream",
     "text": [
      "<!DOCTYPE html>\n",
      "<!--[if lt IE 7]>      <html lang=\"en-us\" class=\"no-js lt-ie9 lt-ie8 lt-ie7\"> <![end\n",
      "         });\n",
      "        </script>\n",
      "\n",
      "        \n",
      "        <!-- Version: N/A -->\n",
      "        \n",
      "    </body>\n",
      "</html>\n",
      "\n"
     ]
    }
   ],
   "source": [
    "url = 'http://books.toscrape.com/index.html'\n",
    "page = requests.get(url)\n",
    "\n",
    "\n",
    "print(page.text[:100])\n",
    "print(page.text[-100:])"
   ]
  },
  {
   "attachments": {},
   "cell_type": "markdown",
   "metadata": {},
   "source": [
    "**Step 1**\n",
    "\n",
    "Create a list containing the book titles on the first page and print it.   \n",
    "The screenshot shows the first 4 books:\n",
    "\n",
    "\n",
    "![](../files/booktitles.png)\n",
    "\n",
    "\n"
   ]
  },
  {
   "cell_type": "code",
   "execution_count": 15,
   "metadata": {},
   "outputs": [],
   "source": [
    "#Step 1:\n",
    "soup = BeautifulSoup(page.content,\"html.parser\")\n",
    "\n",
    "section = soup.find(\"section\")\n",
    "orderedList = section.find(\"ol\")\n",
    "listHtml = orderedList.find_all(\"li\")\n",
    "bookTitles = []\n",
    "for li in listHtml:\n",
    "    h3Title = li.find(\"h3\")\n",
    "    titleLink = h3Title.find(\"a\")\n",
    "    title = titleLink[\"title\"]\n",
    "    bookTitles.append(title)\n",
    "\n",
    "\n",
    "\n"
   ]
  },
  {
   "attachments": {},
   "cell_type": "markdown",
   "metadata": {},
   "source": [
    "**Step 2**\n",
    "\n",
    "Next, create a list containing the book prices.   \n",
    "For the first 4 books:\n",
    "\n",
    "![](../files/bookprices.png)"
   ]
  },
  {
   "cell_type": "code",
   "execution_count": 26,
   "metadata": {},
   "outputs": [
    {
     "data": {
      "text/plain": [
       "20"
      ]
     },
     "execution_count": 26,
     "metadata": {},
     "output_type": "execute_result"
    }
   ],
   "source": [
    "# Step 2\n",
    "\n",
    "bookPrices = []\n",
    "for li in listHtml:\n",
    "    productDiv = li.find(\"div\",{\"class\":\"product_price\"})\n",
    "    priceTag = productDiv.find(\"p\") #first occurence of p which is the price\n",
    "    bookPrices.append(priceTag.text)\n",
    "  \n",
    "\n"
   ]
  },
  {
   "attachments": {},
   "cell_type": "markdown",
   "metadata": {},
   "source": [
    "**Step 3**\n",
    "\n",
    "Finally print the book titles and the corresponding prices. You must use a built-in function.  \n",
    " For the first 4 books:  \n",
    " \n",
    "![](../files/titles_prices.png)"
   ]
  },
  {
   "cell_type": "code",
   "execution_count": 28,
   "metadata": {},
   "outputs": [
    {
     "name": "stdout",
     "output_type": "stream",
     "text": [
      "A Light in the Attic : £51.77\n",
      "Tipping the Velvet : £53.74\n",
      "Soumission : £50.10\n",
      "Sharp Objects : £47.82\n",
      "Sapiens: A Brief History of Humankind : £54.23\n",
      "The Requiem Red : £22.65\n",
      "The Dirty Little Secrets of Getting Your Dream Job : £33.34\n",
      "The Coming Woman: A Novel Based on the Life of the Infamous Feminist, Victoria Woodhull : £17.93\n",
      "The Boys in the Boat: Nine Americans and Their Epic Quest for Gold at the 1936 Berlin Olympics : £22.60\n",
      "The Black Maria : £52.15\n",
      "Starving Hearts (Triangular Trade Trilogy, #1) : £13.99\n",
      "Shakespeare's Sonnets : £20.66\n",
      "Set Me Free : £17.46\n",
      "Scott Pilgrim's Precious Little Life (Scott Pilgrim #1) : £52.29\n",
      "Rip it Up and Start Again : £35.02\n",
      "Our Band Could Be Your Life: Scenes from the American Indie Underground, 1981-1991 : £57.25\n",
      "Olio : £23.88\n",
      "Mesaerion: The Best Science Fiction Stories 1800-1849 : £37.59\n",
      "Libertarianism for Beginners : £51.33\n",
      "It's Only the Himalayas : £45.17\n"
     ]
    }
   ],
   "source": [
    "# Step 3\n",
    "for titleOfBook,priceOfBook in zip(bookTitles,bookPrices): #uses zip function\n",
    "    print(f\"{titleOfBook} : {priceOfBook}\")"
   ]
  }
 ],
 "metadata": {
  "kernelspec": {
   "display_name": "Python 3",
   "language": "python",
   "name": "python3"
  },
  "language_info": {
   "codemirror_mode": {
    "name": "ipython",
    "version": 3
   },
   "file_extension": ".py",
   "mimetype": "text/x-python",
   "name": "python",
   "nbconvert_exporter": "python",
   "pygments_lexer": "ipython3",
   "version": "3.11.1"
  },
  "orig_nbformat": 4,
  "vscode": {
   "interpreter": {
    "hash": "85eded27ffb7880309a489f37b88a682be87cf2780a0d9da7d4e7042a5c8ecfc"
   }
  }
 },
 "nbformat": 4,
 "nbformat_minor": 2
}
