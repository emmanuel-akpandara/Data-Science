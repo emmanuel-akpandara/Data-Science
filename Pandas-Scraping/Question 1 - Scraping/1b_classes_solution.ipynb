{
 "cells": [
  {
   "attachments": {},
   "cell_type": "markdown",
   "metadata": {},
   "source": [
    "NAME:  Emmanuel Akpandara\n",
    "STUDENT NUMBER: r0879038"
   ]
  },
  {
   "attachments": {},
   "cell_type": "markdown",
   "metadata": {},
   "source": [
    "# Question 1  \n",
    "## 1b: Classes and regex\n"
   ]
  },
  {
   "cell_type": "code",
   "execution_count": 1,
   "metadata": {},
   "outputs": [],
   "source": [
    "#run this command\n",
    "import re"
   ]
  },
  {
   "attachments": {},
   "cell_type": "markdown",
   "metadata": {},
   "source": [
    "**Step 1:**\n",
    "\n",
    "Create a class called Bookclub that has the following attributes:\n",
    "\n",
    "   * members: a list of members of the book club that initially contains no elements\n",
    "   * capacity: an integer that represents the maximum number of club members\n",
    "\n",
    "The Bookclub class should have the following methods:\n",
    "\n",
    "   * add_member(member): a method that adds a given member (string) to the book club. If the maximum number of members has been reached, print the message 'Sorry, the club can no longer accept members'.\n",
    "   * remove_member(member): a method that removes a given member (string) from the club. If the person to remove is not a member of the club, print the message 'Sorry, this member does not belong to the club'.\n",
    "   * get_members(): a method that returns a list of all the registered members. You must use list comprehension to build this list.\n"
   ]
  },
  {
   "cell_type": "code",
   "execution_count": 19,
   "metadata": {},
   "outputs": [],
   "source": [
    "# Step 1\n",
    "class Bookclub():\n",
    "    members = []\n",
    "    def __init__(self,capacity):\n",
    "        self.capacity = capacity\n",
    "\n",
    "    def add_member(self,member):\n",
    "        if len(Bookclub.members) == self.capacity:\n",
    "            print(\"Sorry, the club can nolonger accept members\")\n",
    "        Bookclub.members.append(member)\n",
    "\n",
    "\n",
    "    def remove_member(self,member):\n",
    "        if member not in Bookclub.members:\n",
    "            print(\"Sorry, this member does not belong to the club\")\n",
    "        for m in Bookclub.members:\n",
    "            if member == m:\n",
    "                Bookclub.members.remove(m)\n",
    "\n",
    "    def get_members():\n",
    "        [print(mem) for mem in Bookclub.members]\n",
    "        \n",
    "\n",
    "\n"
   ]
  },
  {
   "attachments": {},
   "cell_type": "markdown",
   "metadata": {},
   "source": [
    "***Check step 1:***\n",
    "\n",
    "Execute the code cell below to check if your class works as expected. The result of the execution must be:\n",
    "\n",
    "![](../files/bookclub.png)"
   ]
  },
  {
   "cell_type": "code",
   "execution_count": 20,
   "metadata": {},
   "outputs": [
    {
     "name": "stdout",
     "output_type": "stream",
     "text": [
      "Sorry, the club can nolonger accept members\n",
      "Sorry, this member does not belong to the club\n"
     ]
    },
    {
     "ename": "TypeError",
     "evalue": "Bookclub.get_members() takes 0 positional arguments but 1 was given",
     "output_type": "error",
     "traceback": [
      "\u001b[1;31m---------------------------------------------------------------------------\u001b[0m",
      "\u001b[1;31mTypeError\u001b[0m                                 Traceback (most recent call last)",
      "Cell \u001b[1;32mIn[20], line 14\u001b[0m\n\u001b[0;32m     11\u001b[0m bookclub\u001b[39m.\u001b[39mremove_member(\u001b[39m'\u001b[39m\u001b[39mPiet\u001b[39m\u001b[39m'\u001b[39m)\n\u001b[0;32m     12\u001b[0m bookclub\u001b[39m.\u001b[39mremove_member(\u001b[39m'\u001b[39m\u001b[39mAnnie\u001b[39m\u001b[39m'\u001b[39m)\n\u001b[1;32m---> 14\u001b[0m members \u001b[39m=\u001b[39m bookclub\u001b[39m.\u001b[39;49mget_members()\n\u001b[0;32m     15\u001b[0m \u001b[39mprint\u001b[39m(members)\n",
      "\u001b[1;31mTypeError\u001b[0m: Bookclub.get_members() takes 0 positional arguments but 1 was given"
     ]
    }
   ],
   "source": [
    "# Check step 1 \n",
    "bookclub = Bookclub(capacity=5)\n",
    "\n",
    "bookclub.add_member('John')\n",
    "bookclub.add_member('An')\n",
    "bookclub.add_member('Piet')\n",
    "bookclub.add_member('Els')\n",
    "bookclub.add_member('Maarten')\n",
    "bookclub.add_member('Mieke')\n",
    "\n",
    "bookclub.remove_member('Piet')\n",
    "bookclub.remove_member('Annie')\n",
    "\n",
    "members = bookclub.get_members()\n",
    "print(members)"
   ]
  },
  {
   "attachments": {},
   "cell_type": "markdown",
   "metadata": {},
   "source": [
    "**Step 2** \n",
    "\n",
    "Print the members that are in the list 'members' after executing the code to check step 1. You must use a built-in function for working with collections to get following result:\n",
    "\n",
    "![](../files/members_list.png)"
   ]
  },
  {
   "cell_type": "code",
   "execution_count": 21,
   "metadata": {},
   "outputs": [
    {
     "ename": "NameError",
     "evalue": "name 'members' is not defined",
     "output_type": "error",
     "traceback": [
      "\u001b[1;31m---------------------------------------------------------------------------\u001b[0m",
      "\u001b[1;31mNameError\u001b[0m                                 Traceback (most recent call last)",
      "Cell \u001b[1;32mIn[21], line 3\u001b[0m\n\u001b[0;32m      1\u001b[0m \u001b[39m# Step 2\u001b[39;00m\n\u001b[1;32m----> 3\u001b[0m \u001b[39mfor\u001b[39;00m i, clubMember \u001b[39min\u001b[39;00m \u001b[39menumerate\u001b[39m(members,start\u001b[39m=\u001b[39m\u001b[39m1\u001b[39m):\n\u001b[0;32m      4\u001b[0m     \u001b[39mprint\u001b[39m(clubMember)\n",
      "\u001b[1;31mNameError\u001b[0m: name 'members' is not defined"
     ]
    }
   ],
   "source": [
    "# Step 2\n",
    "\n",
    "for i, clubMember in enumerate(members,start=1):\n",
    "    print(clubMember)\n"
   ]
  },
  {
   "attachments": {},
   "cell_type": "markdown",
   "metadata": {},
   "source": [
    "**Step 3: Regex** \n",
    "\n",
    "* Write a function count_digits that takes a string (=book title) as input, uses a regular expression pattern to match all digits in the string, and returns the count of matches as an integer.\n",
    "* Then create a variable book title with the content: \"The quick brown fox jumps 123 times\".\n",
    "* Call the function and print the number of digits in the book title (=3 for the given title).\n",
    "\n",
    "The output using the given book title looks like this:\n",
    "![](../files/fox123.png)"
   ]
  },
  {
   "cell_type": "code",
   "execution_count": 24,
   "metadata": {},
   "outputs": [
    {
     "data": {
      "text/plain": [
       "3"
      ]
     },
     "execution_count": 24,
     "metadata": {},
     "output_type": "execute_result"
    }
   ],
   "source": [
    "# Step 3\n",
    "def count_digits(bookTitle):\n",
    "    Digits = re.findall(r\"\\d\",bookTitle)\n",
    "    return(len(Digits))\n",
    "var = \"The quick brown fox jumps 123 times\"\n",
    "count_digits(var)"
   ]
  }
 ],
 "metadata": {
  "kernelspec": {
   "display_name": "Python 3",
   "language": "python",
   "name": "python3"
  },
  "language_info": {
   "codemirror_mode": {
    "name": "ipython",
    "version": 3
   },
   "file_extension": ".py",
   "mimetype": "text/x-python",
   "name": "python",
   "nbconvert_exporter": "python",
   "pygments_lexer": "ipython3",
   "version": "3.11.1"
  },
  "orig_nbformat": 4,
  "vscode": {
   "interpreter": {
    "hash": "85eded27ffb7880309a489f37b88a682be87cf2780a0d9da7d4e7042a5c8ecfc"
   }
  }
 },
 "nbformat": 4,
 "nbformat_minor": 2
}
